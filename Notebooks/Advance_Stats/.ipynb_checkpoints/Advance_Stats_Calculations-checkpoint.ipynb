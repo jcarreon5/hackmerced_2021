{
 "cells": [
  {
   "cell_type": "markdown",
   "metadata": {},
   "source": [
    "# Table of contents\n",
    "- <a href='#0'> Introduction </a> \n",
    "- <a href='#1'>1. Importing Libraries and Datasets </a> \n",
    "- <a href='#2'>2. Advance Statistics Functions</a> \n",
    "- <a href='#3'>3. UC Merced Men's 2011-2012 Regular Season Players Statistics </a> "
   ]
  },
  {
   "cell_type": "markdown",
   "metadata": {},
   "source": [
    "# <a id='0'> Introduction </a> "
   ]
  },
  {
   "cell_type": "markdown",
   "metadata": {},
   "source": [
    "# <a id='1'> Importing Libraries and Datasets  </a> "
   ]
  },
  {
   "cell_type": "code",
   "execution_count": 101,
   "metadata": {},
   "outputs": [],
   "source": [
    "import numpy as np \n",
    "import pandas as pd\n",
    "import datetime\n",
    "import seaborn as sns \n",
    "import matplotlib.pyplot as plt\n",
    "# Plotly Libraries\n",
    "import plotly.express as px\n",
    "import plotly.graph_objects as go\n",
    "from plotly.subplots import make_subplots"
   ]
  },
  {
   "cell_type": "markdown",
   "metadata": {},
   "source": [
    "### Men's Datasets"
   ]
  },
  {
   "cell_type": "code",
   "execution_count": 102,
   "metadata": {},
   "outputs": [],
   "source": [
    "men_stats_2011_2012 = pd.read_csv(r'C:\\Users\\Jairo\\Desktop\\hackmerced_2021\\data\\Men_Individual_Data\\players_stats_2011_2012.csv')\n",
    "men_stats_2012_2013 = pd.read_csv(r'C:\\Users\\Jairo\\Desktop\\hackmerced_2021\\data\\Men_Individual_Data\\players_stats_2012_2013.csv')\n",
    "men_stats_2013_2014 = pd.read_csv(r'C:\\Users\\Jairo\\Desktop\\hackmerced_2021\\data\\Men_Individual_Data\\players_stats_2013_2014.csv')\n",
    "men_stats_2014_2015 = pd.read_csv(r'C:\\Users\\Jairo\\Desktop\\hackmerced_2021\\data\\Men_Individual_Data\\players_stats_2014_2015.csv')\n",
    "men_stats_2015_2016 = pd.read_csv(r'C:\\Users\\Jairo\\Desktop\\hackmerced_2021\\data\\Men_Individual_Data\\players_stats_2015_2016.csv')\n",
    "men_stats_2016_2017 = pd.read_csv(r'C:\\Users\\Jairo\\Desktop\\hackmerced_2021\\data\\Men_Individual_Data\\players_stats_2016_2017.csv')\n",
    "men_stats_2017_2018 = pd.read_csv(r'C:\\Users\\Jairo\\Desktop\\hackmerced_2021\\data\\Men_Individual_Data\\players_stats_2017_2018.csv')\n",
    "men_stats_2018_2019 = pd.read_csv(r'C:\\Users\\Jairo\\Desktop\\hackmerced_2021\\data\\Men_Individual_Data\\players_stats_2018_2019.csv')\n",
    "men_stats_2019_2020 = pd.read_csv(r'C:\\Users\\Jairo\\Desktop\\hackmerced_2021\\data\\Men_Individual_Data\\players_stats_2019_2020.csv')"
   ]
  },
  {
   "cell_type": "markdown",
   "metadata": {},
   "source": [
    "### Women's Datasets"
   ]
  },
  {
   "cell_type": "code",
   "execution_count": 103,
   "metadata": {},
   "outputs": [],
   "source": [
    "w_stats_2012_2013 = pd.read_csv(r'C:\\Users\\Jairo\\Desktop\\hackmerced_2021\\data\\Women_Individual_Data\\players_stats_2012_2013_w.csv')\n",
    "w_stats_2013_2014 = pd.read_csv(r'C:\\Users\\Jairo\\Desktop\\hackmerced_2021\\data\\Women_Individual_Data\\players_stats_2013_2014_w.csv')\n",
    "w_stats_2014_2015 = pd.read_csv(r'C:\\Users\\Jairo\\Desktop\\hackmerced_2021\\data\\Women_Individual_Data\\players_stats_2014_2015_w.csv')\n",
    "w_stats_2015_2016 = pd.read_csv(r'C:\\Users\\Jairo\\Desktop\\hackmerced_2021\\data\\Women_Individual_Data\\players_stats_2015_2016_w.csv')\n",
    "w_stats_2016_2017 = pd.read_csv(r'C:\\Users\\Jairo\\Desktop\\hackmerced_2021\\data\\Women_Individual_Data\\players_stats_2016_2017_w.csv')\n",
    "w_stats_2017_2018 = pd.read_csv(r'C:\\Users\\Jairo\\Desktop\\hackmerced_2021\\data\\Women_Individual_Data\\players_stats_2017_2018_w.csv')\n",
    "w_stats_2018_2019 = pd.read_csv(r'C:\\Users\\Jairo\\Desktop\\hackmerced_2021\\data\\Women_Individual_Data\\players_stats_2018_2019_w.csv')\n",
    "w_stats_2019_2020 = pd.read_csv(r'C:\\Users\\Jairo\\Desktop\\hackmerced_2021\\data\\Women_Individual_Data\\players_stats_2019_2020_w.csv')"
   ]
  },
  {
   "cell_type": "code",
   "execution_count": 104,
   "metadata": {},
   "outputs": [
    {
     "data": {
      "text/plain": [
       "Index(['Number', '3FG-M', 'FTA', 'MIN', 'GP', 'Name', 'FGM', 'MIN/G', 'FT%',\n",
       "       'FTM', 'FGA', '3FG-A', 'FG%', '3FG%', 'GS', 'TO', 'PTS/G', 'A/TO',\n",
       "       'STL', 'BLKS', 'REB/G', 'PF', 'DREB', 'TF', 'PTS', 'DQ', 'REB', 'OREB',\n",
       "       'AST'],\n",
       "      dtype='object')"
      ]
     },
     "execution_count": 104,
     "metadata": {},
     "output_type": "execute_result"
    }
   ],
   "source": [
    "w_stats_2012_2013.columns"
   ]
  },
  {
   "cell_type": "markdown",
   "metadata": {},
   "source": [
    "# <a id='2'> Advance Statistics Functions </a> "
   ]
  },
  {
   "cell_type": "code",
   "execution_count": 105,
   "metadata": {},
   "outputs": [],
   "source": [
    "def TS_pecentage(stats):\n",
    "    stats['TS%'] = ((0.5*(stats['PTS'])) / (stats['FGA'])) + 0.44*(stats['FTA'])"
   ]
  },
  {
   "cell_type": "code",
   "execution_count": 106,
   "metadata": {},
   "outputs": [],
   "source": [
    "def PPP(stats):\n",
    "    stats['PPP'] = stats['PTS'] / (stats['FGA'] + (0.44 * stats['FTA']) + stats['TO'])"
   ]
  },
  {
   "cell_type": "code",
   "execution_count": 107,
   "metadata": {},
   "outputs": [],
   "source": [
    "def FT_Rate(stats):\n",
    "    stats['FTR'] = stats['FTA'] / stats['FGA']"
   ]
  },
  {
   "cell_type": "code",
   "execution_count": 108,
   "metadata": {},
   "outputs": [],
   "source": [
    "# 100 * ((FGA + 0.44 * FTA + TOV) \n",
    "# * (Tm MP / 5)) / (MP * (Tm FGA + 0.44 * Tm FTA + Tm TOV)). "
   ]
  },
  {
   "cell_type": "code",
   "execution_count": 109,
   "metadata": {},
   "outputs": [],
   "source": [
    "def USG_percentage(stats):\n",
    "    \n",
    "    Tm_min = stats['MIN'].sum()\n",
    "    Tm_FGA = stats['FGA'].sum()\n",
    "    Tm_FTA = stats['FTA'].sum()\n",
    "    Tm_TOV = stats['TO'].sum()\n",
    "    \n",
    "    stats['USG%'] = 100 * ((stats['FGA'] + (0.44 * stats['FTA']) + stats['TO'])\n",
    "                          * (Tm_min / 5)) / (stats['MIN'] * (Tm_FGA + (0.44 *Tm_FTA ) + Tm_TOV))"
   ]
  },
  {
   "cell_type": "code",
   "execution_count": 110,
   "metadata": {},
   "outputs": [],
   "source": [
    "def TO_percentage(stats):\n",
    "    stats['TO%'] = (100 * stats['TO']) / (stats['FGA'] + (0.44 * stats['FTA']) + stats['TO'])\n",
    "    "
   ]
  },
  {
   "cell_type": "code",
   "execution_count": 111,
   "metadata": {},
   "outputs": [],
   "source": [
    "# This would be useful if we had game statistics but we only have the season stats per player\n",
    "def Game_Score(stats):\n",
    "    stats['GmSc'] = stats['PTS'] + (0.4 * stats['FGM']) - (0.7 * stats['FGA']) - (0.4 * (stats['FTA'] - stats['FTM'])) + (0.7 * stats['OREB']) + (0.3 * stats['DREB']) + stats['STL'] + (0.7 * stats['AST']) + (0.7 * stats['BLKS']) - (0.4 * stats['PF']) - stats['TO']\n"
   ]
  },
  {
   "cell_type": "code",
   "execution_count": null,
   "metadata": {},
   "outputs": [],
   "source": []
  },
  {
   "cell_type": "code",
   "execution_count": null,
   "metadata": {},
   "outputs": [],
   "source": []
  },
  {
   "cell_type": "code",
   "execution_count": null,
   "metadata": {},
   "outputs": [],
   "source": []
  },
  {
   "cell_type": "code",
   "execution_count": null,
   "metadata": {},
   "outputs": [],
   "source": []
  }
 ],
 "metadata": {
  "kernelspec": {
   "display_name": "Python 3",
   "language": "python",
   "name": "python3"
  },
  "language_info": {
   "codemirror_mode": {
    "name": "ipython",
    "version": 3
   },
   "file_extension": ".py",
   "mimetype": "text/x-python",
   "name": "python",
   "nbconvert_exporter": "python",
   "pygments_lexer": "ipython3",
   "version": "3.8.5"
  }
 },
 "nbformat": 4,
 "nbformat_minor": 4
}
