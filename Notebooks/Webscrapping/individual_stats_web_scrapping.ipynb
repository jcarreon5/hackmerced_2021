{
 "cells": [
  {
   "cell_type": "markdown",
   "metadata": {},
   "source": [
    "# Table of Content \n",
    "- <a href='#0'>1. Importing Libraries </a> \n",
    "- <a href='#1'>2. Information about functions </a> \n",
    "- <a href='#2'>3. Function 1: individual_stats_box_1 </a> \n",
    "- <a href='#3'>4. Function 2: individual_stats_box_2 </a> \n",
    "- <a href='#4'>5. Creating DataFrames for Each BasketBall Season  </a> \n",
    "- <a href='#5'>6. Data Type Changed  </a> \n",
    "- <a href='#6'>7. Creating CSV Files  </a> \n",
    "\n"
   ]
  },
  {
   "cell_type": "markdown",
   "metadata": {},
   "source": [
    "# <a id='0'> Importing Libraries </a>"
   ]
  },
  {
   "cell_type": "code",
   "execution_count": 358,
   "metadata": {},
   "outputs": [],
   "source": [
    "from bs4 import BeautifulSoup\n",
    "\n",
    "import urllib\n",
    "import urllib.request\n",
    "import re\n",
    "\n",
    "import numpy as np\n",
    "import pandas as pd\n",
    "from pandas import Series, DataFrame\n",
    "\n",
    "import math\n",
    "\n",
    "import requests\n",
    "\n",
    "import matplotlib.pyplot as plt\n",
    "from pylab import rcParams\n"
   ]
  },
  {
   "cell_type": "markdown",
   "metadata": {},
   "source": [
    "# <a id='1'> Information about Functions </a>"
   ]
  },
  {
   "cell_type": "markdown",
   "metadata": {},
   "source": [
    "Both Functions:\n",
    "* individual_stats_box_1 \n",
    "* individual_stats_box_2\n",
    "\n",
    "Take in a URL link as a parameter especifically the UCM Basketball Website for Individuals StatsReturn and returns a DataFrame with all of their perpective *Box data for each player.\n",
    "* A Box is how the UCM Basketball's website separates the data (like a table).\n",
    "* Box 1 stores the minutes and shooting data\n",
    "* Box 2 stores rebounds and other stats data"
   ]
  },
  {
   "cell_type": "markdown",
   "metadata": {},
   "source": [
    "# <a id='2'> Function 1: individual_stats_box_1  </a>"
   ]
  },
  {
   "cell_type": "code",
   "execution_count": 359,
   "metadata": {},
   "outputs": [],
   "source": [
    "def individual_stats_box_1(URL):\n",
    "    \n",
    "    page = requests.get(URL)\n",
    "\n",
    "    soup = BeautifulSoup(page.content, 'lxml')\n",
    "\n",
    "    box_1 = soup.find('table', class_ = \"stat_table BBIndvStats\")\n",
    "\n",
    "    players_stats_html = box_1.find_all('tr', class_ = \"indStatsStarterRow\")\n",
    "    \n",
    "    # Column's Names Len= 12\n",
    "    col = {'Number','Name', 'GP', 'GS', 'MIN', 'MIN/G','FGM','FGA', 'FG%', '3FG-M','3FG-A', '3FG%', 'FTM', 'FTA', 'FT%'}\n",
    "\n",
    "    # index =  len(players_stats_html[:]) = 16\n",
    "    index = range(0, len(players_stats_html[:]))\n",
    "\n",
    "    players_stats = pd.DataFrame(np.nan, index=index, columns= col)\n",
    "    \n",
    "    tds_per_player = []\n",
    "    for player in players_stats_html:\n",
    "        tds_per_player.append(player.find_all('td'))\n",
    "\n",
    "    player_numbers = []\n",
    "    player_names = []\n",
    "    player_games_played = []\n",
    "    player_games_started = []\n",
    "    player_minutes = []\n",
    "    player_min_per_game = []\n",
    "    player_field_goal_made = []\n",
    "    player_field_goal_attempted = []\n",
    "    player_field_goal_percentage = []\n",
    "    player_3_point_field_goal_made = []\n",
    "    player_3_point_field_goal_attempted = []\n",
    "    player_3_point_field_goal_percentage = []\n",
    "    player_free_throws_made = []\n",
    "    player_free_throws_attempted = []\n",
    "    player_free_throws_percentage = []\n",
    "\n",
    "\n",
    "    for player in tds_per_player:\n",
    "        player_numbers.append(player[:][0].get_text())\n",
    "        player_names.append(player[:][1].get_text())\n",
    "        player_games_played.append(player[:][2].get_text())\n",
    "        player_games_started.append(player[:][3].get_text())\n",
    "        # player[:][4] is a whitespace td tag\n",
    "        player_minutes.append(player[:][5].get_text())\n",
    "        player_min_per_game.append(player[:][6].get_text())\n",
    "        # player[:][7] is a whitespace td tag\n",
    "        player_field_goal_made.append(player[:][8].get_text().split('-')[0])\n",
    "        player_field_goal_attempted.append(player[:][8].get_text().split('-')[1])\n",
    "        player_field_goal_percentage.append(player[:][9].get_text().replace('%', ''))\n",
    "        player_3_point_field_goal_made.append(player[:][10].get_text().split('-')[0])\n",
    "        player_3_point_field_goal_attempted.append(player[:][10].get_text().split('-')[1])\n",
    "        player_3_point_field_goal_percentage.append(player[:][11].get_text().replace('%', ''))\n",
    "        player_free_throws_made.append(player[:][12].get_text().split('-')[0])\n",
    "        player_free_throws_attempted.append(player[:][12].get_text().split('-')[1])\n",
    "        player_free_throws_percentage.append(player[:][13].get_text().replace('%', ''))\n",
    "\n",
    "    players_stats['Number'] = player_numbers\n",
    "    players_stats['Name'] = player_names\n",
    "    players_stats['GP'] = player_games_played\n",
    "    players_stats['GS'] = player_games_started\n",
    "    players_stats['MIN'] = player_minutes\n",
    "    players_stats['MIN/G'] = player_min_per_game\n",
    "    players_stats['FGM'] = player_field_goal_made\n",
    "    players_stats['FGA'] = player_field_goal_attempted\n",
    "    players_stats['FG%'] = player_field_goal_percentage\n",
    "    players_stats['3FG-M'] = player_3_point_field_goal_made\n",
    "    players_stats['3FG-A'] = player_3_point_field_goal_attempted\n",
    "    players_stats['3FG%'] = player_3_point_field_goal_percentage\n",
    "    players_stats['FTM'] = player_free_throws_made\n",
    "    players_stats['FTA'] = player_free_throws_attempted\n",
    "    players_stats['FT%'] = player_free_throws_percentage\n",
    "\n",
    "\n",
    "\n",
    "    return players_stats"
   ]
  },
  {
   "cell_type": "markdown",
   "metadata": {},
   "source": [
    "# <a id='3'> Function 2: individual_stats_box_2  </a>"
   ]
  },
  {
   "cell_type": "code",
   "execution_count": 360,
   "metadata": {},
   "outputs": [],
   "source": [
    "def individual_stats_box_2(URL):\n",
    "    \n",
    "    page = requests.get(URL)\n",
    "\n",
    "    soup = BeautifulSoup(page.content, 'lxml')\n",
    "\n",
    "    box_2 = soup.find('table', class_ = \"stat_table BBIndvStatsSecond\")\n",
    "\n",
    "    players_stats_html = box_2.find_all('tr', class_ = \"indStatsStarterRow\")\n",
    "    \n",
    "    # Column's Names Len= 19\n",
    "    col = {'Number','Name', 'GP', 'GS', 'REB', 'REB/G','OREB','DREB', 'BLKS', 'STL','AST', 'TO', 'A/TO', 'PF', 'TF','DQ','PTS','PTS/G'}\n",
    "\n",
    "    # index =  len(players_stats_html[:]) = 16\n",
    "    index = range(0, len(players_stats_html[:]))\n",
    "\n",
    "    players_stats = pd.DataFrame(np.nan, index=index, columns= col)\n",
    "    \n",
    "    tds_per_player = []\n",
    "    for player in players_stats_html:\n",
    "        tds_per_player.append(player.find_all('td'))\n",
    "\n",
    "    player_numbers = []\n",
    "    player_names = []\n",
    "    player_games_played = []\n",
    "    player_games_started = []\n",
    "    player_REB = []\n",
    "    player_REB_PER_G = []\n",
    "    player_O_REB = []\n",
    "    player_D_REB = []\n",
    "    player_BLKS = []\n",
    "    player_STL = []\n",
    "    player_AST = []\n",
    "    player_TO = []\n",
    "    player_A_PER_TO = []\n",
    "    player_PF = []\n",
    "    player_TF = []\n",
    "    player_DQ = []\n",
    "    player_PTS = []\n",
    "    player_PTS_PER_G = []\n",
    "\n",
    "    for player in tds_per_player:\n",
    "        player_numbers.append(player[:][0].get_text())\n",
    "        player_names.append(player[:][1].get_text())\n",
    "        player_games_played.append(player[:][2].get_text())\n",
    "        player_games_started.append(player[:][3].get_text())\n",
    "        # player[:][4] is a whitespace td tag\n",
    "        player_REB.append(player[:][5].get_text())\n",
    "        player_REB_PER_G.append(player[:][6].get_text())\n",
    "        player_O_REB.append(player[:][7].get_text())\n",
    "        player_D_REB.append(player[:][8].get_text())\n",
    "        # player[:][9] is a whitespace td tag\n",
    "        player_BLKS.append(player[:][10].get_text())\n",
    "        player_STL.append(player[:][11].get_text())\n",
    "        player_AST.append(player[:][12].get_text())\n",
    "        player_TO.append(player[:][13].get_text())\n",
    "        player_A_PER_TO.append(player[:][14].get_text())\n",
    "        player_PF.append(player[:][15].get_text())\n",
    "        player_TF.append(player[:][16].get_text())\n",
    "        player_DQ.append(player[:][17].get_text())\n",
    "        player_PTS.append(player[:][18].get_text())\n",
    "        player_PTS_PER_G.append(player[:][19].get_text())\n",
    "\n",
    "\n",
    "\n",
    "\n",
    "    players_stats['Number'] = player_numbers\n",
    "    players_stats['Name'] = player_names\n",
    "    players_stats['GP'] = player_games_played\n",
    "    players_stats['GS'] = player_games_started\n",
    "    players_stats['REB'] = player_REB\n",
    "    players_stats['REB/G'] = player_REB_PER_G\n",
    "    players_stats['OREB'] = player_O_REB\n",
    "    players_stats['DREB'] = player_D_REB\n",
    "    players_stats['BLKS'] = player_BLKS\n",
    "    players_stats['STL'] = player_STL\n",
    "    players_stats['AST'] = player_AST\n",
    "    players_stats['TO'] = player_TO\n",
    "    players_stats['A/TO'] = player_A_PER_TO\n",
    "    players_stats['PF'] = player_PF\n",
    "    players_stats['TF'] = player_TF\n",
    "    players_stats['DQ'] = player_DQ\n",
    "    players_stats['PTS'] = player_PTS\n",
    "    players_stats['PTS/G'] = player_PTS_PER_G\n",
    "\n",
    "\n",
    "\n",
    "    return players_stats"
   ]
  },
  {
   "cell_type": "markdown",
   "metadata": {},
   "source": [
    "# <a id='4'>Creating DataFrames for Each BasketBall Season</a>"
   ]
  },
  {
   "cell_type": "markdown",
   "metadata": {},
   "source": [
    "## Mens' individual Statistics Box DFs"
   ]
  },
  {
   "cell_type": "code",
   "execution_count": 361,
   "metadata": {},
   "outputs": [],
   "source": [
    "URL_2011_2012 = 'https://www.ucmercedbobcats.com/SIDHelp/seasonStats/9/1/1854.php#tabs-2'\n",
    "URL_2012_2013 = 'https://www.ucmercedbobcats.com/SIDHelp/seasonStats/10/1/1854.php#tabs-2'\n",
    "URL_2013_2014 = 'https://www.ucmercedbobcats.com/SIDHelp/seasonStats/11/1/1854.php#tabs-2'\n",
    "URL_2014_2015 = 'https://www.ucmercedbobcats.com/SIDHelp/seasonStats/12/1/1854.php#tabs-2'\n",
    "URL_2015_2016 = 'https://www.ucmercedbobcats.com/SIDHelp/seasonStats/13/1/1854.php#tabs-2'\n",
    "URL_2016_2017 = 'https://www.ucmercedbobcats.com/SIDHelp/seasonStats/14/1/1854.php#tabs-2'\n",
    "URL_2017_2018 = 'https://www.ucmercedbobcats.com/SIDHelp/seasonStats/15/1/1854.php#tabs-2'\n",
    "URL_2018_2019 = 'https://www.ucmercedbobcats.com/SIDHelp/seasonStats/16/1/1854.php#tabs-2'\n",
    "URL_2019_2020 = 'https://www.ucmercedbobcats.com/SIDHelp/seasonStats/17/1/1854.php#tabs-2'\n",
    "\n",
    "players_stats_2011_2012_box_1 = individual_stats_box_1(URL_2011_2012)\n",
    "players_stats_2012_2013_box_1 = individual_stats_box_1(URL_2012_2013)\n",
    "players_stats_2013_2014_box_1 = individual_stats_box_1(URL_2013_2014)\n",
    "players_stats_2014_2015_box_1 = individual_stats_box_1(URL_2014_2015)\n",
    "players_stats_2015_2016_box_1 = individual_stats_box_1(URL_2015_2016)\n",
    "players_stats_2016_2017_box_1 = individual_stats_box_1(URL_2016_2017)\n",
    "players_stats_2017_2018_box_1 = individual_stats_box_1(URL_2017_2018)\n",
    "players_stats_2018_2019_box_1 = individual_stats_box_1(URL_2018_2019)\n",
    "players_stats_2019_2020_box_1 = individual_stats_box_1(URL_2019_2020)\n",
    "\n",
    "players_stats_2011_2012_box_2 = individual_stats_box_2(URL_2011_2012)\n",
    "players_stats_2012_2013_box_2 = individual_stats_box_2(URL_2012_2013)\n",
    "players_stats_2013_2014_box_2 = individual_stats_box_2(URL_2013_2014)\n",
    "players_stats_2014_2015_box_2 = individual_stats_box_2(URL_2014_2015)\n",
    "players_stats_2015_2016_box_2 = individual_stats_box_2(URL_2015_2016)\n",
    "players_stats_2016_2017_box_2 = individual_stats_box_2(URL_2016_2017)\n",
    "players_stats_2017_2018_box_2 = individual_stats_box_2(URL_2017_2018)\n",
    "players_stats_2018_2019_box_2 = individual_stats_box_2(URL_2018_2019)\n",
    "players_stats_2019_2020_box_2 = individual_stats_box_2(URL_2019_2020)"
   ]
  },
  {
   "cell_type": "markdown",
   "metadata": {},
   "source": [
    "## Women's Individual Statistics Box DFs"
   ]
  },
  {
   "cell_type": "code",
   "execution_count": 362,
   "metadata": {},
   "outputs": [],
   "source": [
    "\n",
    "URL_2012_2013 = 'https://www.ucmercedbobcats.com/SIDHelp/seasonStats/10/2/1854.php#tabs-2'\n",
    "URL_2013_2014 = 'https://www.ucmercedbobcats.com/SIDHelp/seasonStats/11/2/1854.php#tabs-2'\n",
    "URL_2014_2015 = 'https://www.ucmercedbobcats.com/SIDHelp/seasonStats/12/2/1854.php#tabs-2'\n",
    "URL_2015_2016 = 'https://www.ucmercedbobcats.com/SIDHelp/seasonStats/13/2/1854.php#tabs-2'\n",
    "URL_2016_2017 = 'https://www.ucmercedbobcats.com/SIDHelp/seasonStats/14/2/1854.php#tabs-2'\n",
    "URL_2017_2018 = 'https://www.ucmercedbobcats.com/SIDHelp/seasonStats/15/2/1854.php#tabs-2'\n",
    "URL_2018_2019 = 'https://www.ucmercedbobcats.com/SIDHelp/seasonStats/16/2/1854.php#tabs-2'\n",
    "URL_2019_2020 = 'https://www.ucmercedbobcats.com/SIDHelp/seasonStats/17/2/1854.php#tabs-2'\n",
    "\n",
    "players_stats_2012_2013_box_1_w = individual_stats_box_1(URL_2012_2013)\n",
    "players_stats_2013_2014_box_1_w = individual_stats_box_1(URL_2013_2014)\n",
    "players_stats_2014_2015_box_1_w = individual_stats_box_1(URL_2014_2015)\n",
    "players_stats_2015_2016_box_1_w = individual_stats_box_1(URL_2015_2016)\n",
    "players_stats_2016_2017_box_1_w = individual_stats_box_1(URL_2016_2017)\n",
    "players_stats_2017_2018_box_1_w = individual_stats_box_1(URL_2017_2018)\n",
    "players_stats_2018_2019_box_1_w = individual_stats_box_1(URL_2018_2019)\n",
    "players_stats_2019_2020_box_1_w = individual_stats_box_1(URL_2019_2020)\n",
    "\n",
    "players_stats_2012_2013_box_2_w = individual_stats_box_2(URL_2012_2013)\n",
    "players_stats_2013_2014_box_2_w = individual_stats_box_2(URL_2013_2014)\n",
    "players_stats_2014_2015_box_2_w = individual_stats_box_2(URL_2014_2015)\n",
    "players_stats_2015_2016_box_2_w = individual_stats_box_2(URL_2015_2016)\n",
    "players_stats_2016_2017_box_2_w = individual_stats_box_2(URL_2016_2017)\n",
    "players_stats_2017_2018_box_2_w = individual_stats_box_2(URL_2017_2018)\n",
    "players_stats_2018_2019_box_2_w = individual_stats_box_2(URL_2018_2019)\n",
    "players_stats_2019_2020_box_2_w = individual_stats_box_2(URL_2019_2020)"
   ]
  },
  {
   "cell_type": "markdown",
   "metadata": {},
   "source": [
    "# Combined Both DataFrames"
   ]
  },
  {
   "cell_type": "markdown",
   "metadata": {},
   "source": [
    "## Men's Individual Statistics DF"
   ]
  },
  {
   "cell_type": "code",
   "execution_count": 363,
   "metadata": {},
   "outputs": [],
   "source": [
    "players_stats_2011_2012 = pd.merge(players_stats_2011_2012_box_1,\n",
    "                                   players_stats_2011_2012_box_2, \n",
    "                                   on=[\"Number\", \"Name\",\"GP\",\"GS\"])\n",
    "\n",
    "players_stats_2012_2013 = pd.merge(players_stats_2012_2013_box_1,\n",
    "                                   players_stats_2012_2013_box_2, \n",
    "                                   on=[\"Number\", \"Name\",\"GP\",\"GS\"])\n",
    "\n",
    "players_stats_2013_2014 = pd.merge(players_stats_2013_2014_box_1,\n",
    "                                   players_stats_2013_2014_box_2, \n",
    "                                   on=[\"Number\", \"Name\",\"GP\",\"GS\"])\n",
    "\n",
    "players_stats_2014_2015 = pd.merge(players_stats_2014_2015_box_1,\n",
    "                                   players_stats_2014_2015_box_2, \n",
    "                                   on=[\"Number\", \"Name\",\"GP\",\"GS\"])\n",
    "\n",
    "players_stats_2015_2016 = pd.merge(players_stats_2015_2016_box_1,\n",
    "                                   players_stats_2015_2016_box_2, \n",
    "                                   on=[\"Number\", \"Name\",\"GP\",\"GS\"])\n",
    "\n",
    "players_stats_2016_2017 = pd.merge(players_stats_2016_2017_box_1,\n",
    "                                   players_stats_2016_2017_box_2, \n",
    "                                   on=[\"Number\", \"Name\",\"GP\",\"GS\"])\n",
    "\n",
    "players_stats_2017_2018 = pd.merge(players_stats_2017_2018_box_1,\n",
    "                                   players_stats_2017_2018_box_2, \n",
    "                                   on=[\"Number\", \"Name\",\"GP\",\"GS\"])\n",
    "\n",
    "players_stats_2018_2019 = pd.merge(players_stats_2018_2019_box_1,\n",
    "                                   players_stats_2018_2019_box_2, \n",
    "                                   on=[\"Number\", \"Name\",\"GP\",\"GS\"])\n",
    "\n",
    "players_stats_2019_2020 = pd.merge(players_stats_2019_2020_box_1,\n",
    "                                   players_stats_2019_2020_box_2, \n",
    "                                   on=[\"Number\", \"Name\",\"GP\",\"GS\"])\n"
   ]
  },
  {
   "cell_type": "markdown",
   "metadata": {},
   "source": [
    "## Women's Individual Statistics DF"
   ]
  },
  {
   "cell_type": "code",
   "execution_count": 364,
   "metadata": {},
   "outputs": [],
   "source": [
    "players_stats_2012_2013_w = pd.merge(players_stats_2012_2013_box_1_w,\n",
    "                                   players_stats_2012_2013_box_2_w, \n",
    "                                   on=[\"Number\", \"Name\",\"GP\",\"GS\"])\n",
    "\n",
    "players_stats_2013_2014_w = pd.merge(players_stats_2013_2014_box_1_w,\n",
    "                                   players_stats_2013_2014_box_2_w, \n",
    "                                   on=[\"Number\", \"Name\",\"GP\",\"GS\"])\n",
    "\n",
    "players_stats_2014_2015_w = pd.merge(players_stats_2014_2015_box_1_w,\n",
    "                                   players_stats_2014_2015_box_2_w, \n",
    "                                   on=[\"Number\", \"Name\",\"GP\",\"GS\"])\n",
    "\n",
    "players_stats_2015_2016_w = pd.merge(players_stats_2015_2016_box_1_w,\n",
    "                                   players_stats_2015_2016_box_2_w, \n",
    "                                   on=[\"Number\", \"Name\",\"GP\",\"GS\"])\n",
    "\n",
    "players_stats_2016_2017_w = pd.merge(players_stats_2016_2017_box_1_w,\n",
    "                                   players_stats_2016_2017_box_2_w, \n",
    "                                   on=[\"Number\", \"Name\",\"GP\",\"GS\"])\n",
    "\n",
    "players_stats_2017_2018_w = pd.merge(players_stats_2017_2018_box_1_w,\n",
    "                                   players_stats_2017_2018_box_2_w, \n",
    "                                   on=[\"Number\", \"Name\",\"GP\",\"GS\"])\n",
    "\n",
    "players_stats_2018_2019_w = pd.merge(players_stats_2018_2019_box_1_w,\n",
    "                                   players_stats_2018_2019_box_2_w, \n",
    "                                   on=[\"Number\", \"Name\",\"GP\",\"GS\"])\n",
    "\n",
    "players_stats_2019_2020_w = pd.merge(players_stats_2019_2020_box_1_w,\n",
    "                                   players_stats_2019_2020_box_2_w, \n",
    "                                   on=[\"Number\", \"Name\",\"GP\",\"GS\"])"
   ]
  },
  {
   "cell_type": "markdown",
   "metadata": {},
   "source": [
    "# <a id='5'>Data Type Changed</a>"
   ]
  },
  {
   "cell_type": "code",
   "execution_count": 365,
   "metadata": {},
   "outputs": [],
   "source": [
    "# Columns to be converted from str -> int\n",
    "columns_to_int = ['3FG-M', 'FTA', 'MIN', 'GP', 'FGM','FTM', 'FGA', '3FG-A','GS','TO','STL', 'BLKS', 'PF', 'DREB', 'TF', 'PTS', 'DQ', 'REB', 'OREB','AST']\n",
    "\n",
    "# Columns to be converted from str -> float \n",
    "columns_to_float = ['MIN/G','FT%','FG%', '3FG%','PTS/G','A/TO','REB/G']\n",
    "\n",
    "# the Remaininding columns stay as str"
   ]
  },
  {
   "cell_type": "markdown",
   "metadata": {},
   "source": [
    "## Data Type Changed: Men"
   ]
  },
  {
   "cell_type": "code",
   "execution_count": 367,
   "metadata": {},
   "outputs": [],
   "source": [
    "#### str ----> float ####\n",
    "players_stats_2011_2012[columns_to_float] = players_stats_2011_2012[columns_to_float].astype(float)\n",
    "players_stats_2012_2013[columns_to_float] = players_stats_2012_2013[columns_to_float].astype(float)\n",
    "players_stats_2013_2014[columns_to_float] = players_stats_2013_2014[columns_to_float].astype(float)\n",
    "players_stats_2014_2015[columns_to_float] = players_stats_2014_2015[columns_to_float].astype(float)\n",
    "players_stats_2015_2016[columns_to_float] = players_stats_2015_2016[columns_to_float].astype(float)\n",
    "players_stats_2016_2017[columns_to_float] = players_stats_2016_2017[columns_to_float].astype(float)\n",
    "players_stats_2017_2018[columns_to_float] = players_stats_2017_2018[columns_to_float].astype(float)\n",
    "players_stats_2018_2019[columns_to_float] = players_stats_2018_2019[columns_to_float].astype(float)\n",
    "players_stats_2019_2020[columns_to_float] = players_stats_2019_2020[columns_to_float].astype(float)\n",
    "\n",
    "\n",
    "#### str -----> int ####\n",
    "players_stats_2011_2012[columns_to_int] = players_stats_2011_2012[columns_to_int].astype(int)\n",
    "players_stats_2012_2013[columns_to_int] = players_stats_2012_2013[columns_to_int].astype(int)\n",
    "players_stats_2013_2014[columns_to_int] = players_stats_2013_2014[columns_to_int].astype(int)\n",
    "players_stats_2014_2015[columns_to_int] = players_stats_2014_2015[columns_to_int].astype(int)\n",
    "players_stats_2015_2016[columns_to_int] = players_stats_2015_2016[columns_to_int].astype(int)\n",
    "players_stats_2016_2017[columns_to_int] = players_stats_2016_2017[columns_to_int].astype(int)\n",
    "players_stats_2017_2018[columns_to_int] = players_stats_2017_2018[columns_to_int].astype(int)\n",
    "players_stats_2018_2019[columns_to_int] = players_stats_2018_2019[columns_to_int].astype(int)\n",
    "players_stats_2019_2020[columns_to_int] = players_stats_2019_2020[columns_to_int].astype(int)"
   ]
  },
  {
   "cell_type": "markdown",
   "metadata": {},
   "source": [
    "## Data Type Changed: Women"
   ]
  },
  {
   "cell_type": "code",
   "execution_count": 368,
   "metadata": {},
   "outputs": [],
   "source": [
    "#### str ----> float ####\n",
    "players_stats_2012_2013_w[columns_to_float] = players_stats_2012_2013_w[columns_to_float].astype(float)\n",
    "players_stats_2013_2014_w[columns_to_float] = players_stats_2013_2014_w[columns_to_float].astype(float)\n",
    "players_stats_2014_2015_w[columns_to_float] = players_stats_2014_2015_w[columns_to_float].astype(float)\n",
    "players_stats_2015_2016_w[columns_to_float] = players_stats_2015_2016_w[columns_to_float].astype(float)\n",
    "players_stats_2016_2017_w[columns_to_float] = players_stats_2016_2017_w[columns_to_float].astype(float)\n",
    "players_stats_2017_2018_w[columns_to_float] = players_stats_2017_2018_w[columns_to_float].astype(float)\n",
    "players_stats_2018_2019_w[columns_to_float] = players_stats_2018_2019_w[columns_to_float].astype(float)\n",
    "players_stats_2019_2020_w[columns_to_float] = players_stats_2019_2020_w[columns_to_float].astype(float)\n",
    "\n",
    "#### str -----> int ####\n",
    "players_stats_2012_2013_w[columns_to_int] = players_stats_2012_2013_w[columns_to_int].astype(int)\n",
    "players_stats_2013_2014_w[columns_to_int] = players_stats_2013_2014_w[columns_to_int].astype(int)\n",
    "players_stats_2014_2015_w[columns_to_int] = players_stats_2014_2015_w[columns_to_int].astype(int)\n",
    "players_stats_2015_2016_w[columns_to_int] = players_stats_2015_2016_w[columns_to_int].astype(int)\n",
    "players_stats_2016_2017_w[columns_to_int] = players_stats_2016_2017_w[columns_to_int].astype(int)\n",
    "players_stats_2017_2018_w[columns_to_int] = players_stats_2017_2018_w[columns_to_int].astype(int)\n",
    "players_stats_2018_2019_w[columns_to_int] = players_stats_2018_2019_w[columns_to_int].astype(int)\n",
    "players_stats_2019_2020_w[columns_to_int] = players_stats_2019_2020_w[columns_to_int].astype(int)\n"
   ]
  },
  {
   "cell_type": "markdown",
   "metadata": {},
   "source": [
    "# <a id='6'> Creating CSV Files</a>\n",
    "###   * Store them in the data folder "
   ]
  },
  {
   "cell_type": "markdown",
   "metadata": {},
   "source": [
    "### Men's Individual Stats CSV Files"
   ]
  },
  {
   "cell_type": "code",
   "execution_count": 369,
   "metadata": {},
   "outputs": [],
   "source": [
    "path = 'C:\\\\Users\\\\Jairo\\Desktop\\\\hackmerced_2021\\\\data\\\\Men_Individual_Data\\\\'\n",
    "\n",
    "players_stats_2011_2012.to_csv(path+'players_stats_2011_2012.csv', index=False)\n",
    "players_stats_2012_2013.to_csv(path+'players_stats_2012_2013.csv', index=False)\n",
    "players_stats_2013_2014.to_csv(path+'players_stats_2013_2014.csv', index=False)\n",
    "players_stats_2014_2015.to_csv(path+'players_stats_2014_2015.csv', index=False)\n",
    "players_stats_2015_2016.to_csv(path+'players_stats_2015_2016.csv', index=False)\n",
    "players_stats_2016_2017.to_csv(path+'players_stats_2016_2017.csv', index=False)\n",
    "players_stats_2017_2018.to_csv(path+'players_stats_2017_2018.csv', index=False)\n",
    "players_stats_2018_2019.to_csv(path+'players_stats_2018_2019.csv', index=False)\n",
    "players_stats_2019_2020.to_csv(path+'players_stats_2019_2020.csv', index=False)\n"
   ]
  },
  {
   "cell_type": "markdown",
   "metadata": {},
   "source": [
    "### Women's Individual Stats CSV Files"
   ]
  },
  {
   "cell_type": "code",
   "execution_count": 370,
   "metadata": {},
   "outputs": [],
   "source": [
    "path = 'C:\\\\Users\\\\Jairo\\Desktop\\\\hackmerced_2021\\\\data\\\\Women_Individual_Data\\\\'\n",
    "\n",
    "players_stats_2012_2013_w.to_csv(path+'players_stats_2012_2013_w.csv', index=False)\n",
    "players_stats_2013_2014_w.to_csv(path+'players_stats_2013_2014_w.csv', index=False)\n",
    "players_stats_2014_2015_w.to_csv(path+'players_stats_2014_2015_w.csv', index=False)\n",
    "players_stats_2015_2016_w.to_csv(path+'players_stats_2015_2016_w.csv', index=False)\n",
    "players_stats_2016_2017_w.to_csv(path+'players_stats_2016_2017_w.csv', index=False)\n",
    "players_stats_2017_2018_w.to_csv(path+'players_stats_2017_2018_w.csv', index=False)\n",
    "players_stats_2018_2019_w.to_csv(path+'players_stats_2018_2019_w.csv', index=False)\n",
    "players_stats_2019_2020_w.to_csv(path+'players_stats_2019_2020_w.csv', index=False)\n"
   ]
  },
  {
   "cell_type": "code",
   "execution_count": 372,
   "metadata": {},
   "outputs": [
    {
     "data": {
      "text/plain": [
       "Index(['Number', '3FG-M', 'FTA', 'MIN', 'GP', 'Name', 'FGM', 'MIN/G', 'FT%',\n",
       "       'FTM', 'FGA', '3FG-A', 'FG%', '3FG%', 'GS', 'TO', 'PTS/G', 'A/TO',\n",
       "       'STL', 'BLKS', 'REB/G', 'PF', 'DREB', 'TF', 'PTS', 'DQ', 'REB', 'OREB',\n",
       "       'AST'],\n",
       "      dtype='object')"
      ]
     },
     "execution_count": 372,
     "metadata": {},
     "output_type": "execute_result"
    }
   ],
   "source": [
    "players_stats_2011_2012.columns"
   ]
  },
  {
   "cell_type": "code",
   "execution_count": null,
   "metadata": {},
   "outputs": [],
   "source": []
  }
 ],
 "metadata": {
  "kernelspec": {
   "display_name": "Python 3",
   "language": "python",
   "name": "python3"
  },
  "language_info": {
   "codemirror_mode": {
    "name": "ipython",
    "version": 3
   },
   "file_extension": ".py",
   "mimetype": "text/x-python",
   "name": "python",
   "nbconvert_exporter": "python",
   "pygments_lexer": "ipython3",
   "version": "3.8.5"
  }
 },
 "nbformat": 4,
 "nbformat_minor": 4
}
