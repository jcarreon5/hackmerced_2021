{
 "cells": [
  {
   "cell_type": "markdown",
   "metadata": {},
   "source": [
    "# Import Libraries"
   ]
  },
  {
   "cell_type": "code",
   "execution_count": 3,
   "metadata": {},
   "outputs": [],
   "source": [
    "from bs4 import BeautifulSoup\n",
    "\n",
    "import urllib\n",
    "import urllib.request\n",
    "import re\n",
    "\n",
    "import numpy as np\n",
    "import pandas as pd\n",
    "from pandas import Series, DataFrame\n",
    "\n",
    "import math\n",
    "\n",
    "import requests\n",
    "\n",
    "import matplotlib.pyplot as plt\n",
    "from pylab import rcParams"
   ]
  },
  {
   "cell_type": "markdown",
   "metadata": {},
   "source": [
    "### HTML Code for reference"
   ]
  },
  {
   "cell_type": "code",
   "execution_count": 226,
   "metadata": {},
   "outputs": [],
   "source": [
    "# The 2 boxes\n",
    "    #class=\"boxStats full fbIndStats season centerText\"\n",
    "# First Box\n",
    "    #class=\"stat_table BBIndvStats\"\n",
    "# Second Box\n",
    "    #table class=\"stat_table BBIndvStatsSecond\"\n",
    "#Rows of teh boxes: PLayers info.\n",
    "    #class=\"indStatsStarterRow\"\n",
    "#print(page.content[:])"
   ]
  },
  {
   "cell_type": "code",
   "execution_count": 227,
   "metadata": {},
   "outputs": [],
   "source": [
    "def individual_stats_box1(URL):\n",
    "    \n",
    "    page = requests.get(URL)\n",
    "\n",
    "    soup = BeautifulSoup(page.content, 'lxml')\n",
    "\n",
    "    box_1 = soup.find('table', class_ = \"stat_table BBIndvStats\")\n",
    "\n",
    "    players_stats_html = box_1.find_all('tr', class_ = \"indStatsStarterRow\")\n",
    "    \n",
    "    # Column's Names Len= 12\n",
    "    col = {'Number','Name', 'GP', 'GS', 'MIN', 'MIN/G','FGM','FGA', 'FG%', '3FG-M','3FG-A', '3FG%', 'FTM', 'FTA', 'FT%'}\n",
    "\n",
    "    # index =  len(players_stats_html[:]) = 16\n",
    "    index = range(0, len(players_stats_html[:]))\n",
    "\n",
    "    players_stats = pd.DataFrame(np.nan, index=index, columns= col)\n",
    "    \n",
    "    tds_per_player = []\n",
    "    for player in players_stats_html:\n",
    "        tds_per_player.append(player.find_all('td'))\n",
    "\n",
    "    player_numbers = []\n",
    "    player_names = []\n",
    "    player_games_played = []\n",
    "    player_games_started = []\n",
    "    player_minutes = []\n",
    "    player_min_per_game = []\n",
    "    player_field_goal_made = []\n",
    "    player_field_goal_attempted = []\n",
    "    player_field_goal_percentage = []\n",
    "    player_3_point_field_goal_made = []\n",
    "    player_3_point_field_goal_attempted = []\n",
    "    player_3_point_field_goal_percentage = []\n",
    "    player_free_throws_made = []\n",
    "    player_free_throws_attempted = []\n",
    "    player_free_throws_percentage = []\n",
    "\n",
    "\n",
    "    for player in tds_per_player:\n",
    "        player_numbers.append(player[:][0].get_text())\n",
    "        player_names.append(player[:][1].get_text())\n",
    "        player_games_played.append(player[:][2].get_text())\n",
    "        player_games_started.append(player[:][3].get_text())\n",
    "        # player[:][4] is a whitespace td tag\n",
    "        player_minutes.append(player[:][5].get_text())\n",
    "        player_min_per_game.append(player[:][6].get_text())\n",
    "        # player[:][7] is a whitespace td tag\n",
    "        player_field_goal_made.append(player[:][8].get_text().split('-')[0])\n",
    "        player_field_goal_attempted.append(player[:][8].get_text().split('-')[1])\n",
    "        player_field_goal_percentage.append(player[:][9].get_text().replace('%', ''))\n",
    "        player_3_point_field_goal_made.append(player[:][10].get_text().split('-')[0])\n",
    "        player_3_point_field_goal_attempted.append(player[:][10].get_text().split('-')[1])\n",
    "        player_3_point_field_goal_percentage.append(player[:][11].get_text().replace('%', ''))\n",
    "        player_free_throws_made.append(player[:][12].get_text().split('-')[0])\n",
    "        player_free_throws_attempted.append(player[:][12].get_text().split('-')[1])\n",
    "        player_free_throws_percentage.append(player[:][13].get_text().replace('%', ''))\n",
    "\n",
    "    players_stats['Number'] = player_numbers\n",
    "    players_stats['Names'] = player_names\n",
    "    players_stats['GP'] = player_games_played\n",
    "    players_stats['GS'] = player_games_started\n",
    "    players_stats['MIN'] = player_minutes\n",
    "    players_stats['MIN/G'] = player_min_per_game\n",
    "    players_stats['FGM'] = player_field_goal_made\n",
    "    players_stats['FGA'] = player_field_goal_attempted\n",
    "    players_stats['FG%'] = player_field_goal_percentage\n",
    "    players_stats['3FG-M'] = player_3_point_field_goal_made\n",
    "    players_stats['3FG-A'] = player_3_point_field_goal_attempted\n",
    "    players_stats['3FG%'] = player_3_point_field_goal_percentage\n",
    "    players_stats['FTM'] = player_free_throws_made\n",
    "    players_stats['FTA'] = player_free_throws_attempted\n",
    "    players_stats['FT%'] = player_free_throws_percentage\n",
    "\n",
    "\n",
    "\n",
    "    return players_stats"
   ]
  },
  {
   "cell_type": "code",
   "execution_count": 228,
   "metadata": {},
   "outputs": [],
   "source": [
    "\n",
    "URL_2011_2012 = 'https://www.ucmercedbobcats.com/SIDHelp/seasonStats/9/1/1854.php#tabs-2'\n",
    "URL_2012_2013 = 'https://www.ucmercedbobcats.com/SIDHelp/seasonStats/10/1/1854.php#tabs-2'\n",
    "URL_2013_2014 = 'https://www.ucmercedbobcats.com/SIDHelp/seasonStats/11/1/1854.php#tabs-2'\n",
    "URL_2014_2015 = 'https://www.ucmercedbobcats.com/SIDHelp/seasonStats/12/1/1854.php#tabs-2'\n",
    "URL_2015_2016 = 'https://www.ucmercedbobcats.com/SIDHelp/seasonStats/13/1/1854.php#tabs-2'\n",
    "URL_2016_2017 = 'https://www.ucmercedbobcats.com/SIDHelp/seasonStats/14/1/1854.php#tabs-2'\n",
    "URL_2017_2018 = 'https://www.ucmercedbobcats.com/SIDHelp/seasonStats/15/1/1854.php#tabs-2'\n",
    "URL_2018_2019 = 'https://www.ucmercedbobcats.com/SIDHelp/seasonStats/16/1/1854.php#tabs-2'\n",
    "URL_2019_2020 = 'https://www.ucmercedbobcats.com/SIDHelp/seasonStats/17/1/1854.php#tabs-2'\n",
    "\n",
    "players_stats_2011_2012 = individual_stats_box1(URL_2011_2012)\n",
    "players_stats_2012_2013 = individual_stats_box1(URL_2012_2013)\n",
    "players_stats_2013_2014 = individual_stats_box1(URL_2013_2014)\n",
    "players_stats_2014_2015 = individual_stats_box1(URL_2014_2015)\n",
    "players_stats_2015_2016 = individual_stats_box1(URL_2015_2016)\n",
    "players_stats_2016_2017 = individual_stats_box1(URL_2016_2017)\n",
    "players_stats_2017_2018 = individual_stats_box1(URL_2017_2018)\n",
    "players_stats_2018_2019 = individual_stats_box1(URL_2018_2019)\n",
    "players_stats_2019_2020 = individual_stats_box1(URL_2019_2020)\n",
    "\n"
   ]
  },
  {
   "cell_type": "code",
   "execution_count": null,
   "metadata": {},
   "outputs": [],
   "source": []
  },
  {
   "cell_type": "code",
   "execution_count": null,
   "metadata": {},
   "outputs": [],
   "source": []
  },
  {
   "cell_type": "code",
   "execution_count": null,
   "metadata": {},
   "outputs": [],
   "source": []
  }
 ],
 "metadata": {
  "kernelspec": {
   "display_name": "Python 3",
   "language": "python",
   "name": "python3"
  },
  "language_info": {
   "codemirror_mode": {
    "name": "ipython",
    "version": 3
   },
   "file_extension": ".py",
   "mimetype": "text/x-python",
   "name": "python",
   "nbconvert_exporter": "python",
   "pygments_lexer": "ipython3",
   "version": "3.8.5"
  }
 },
 "nbformat": 4,
 "nbformat_minor": 4
}
